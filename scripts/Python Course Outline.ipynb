{
 "cells": [
  {
   "cell_type": "markdown",
   "metadata": {},
   "source": [
    "# Python ¡Desde Cero!\n",
    "### Un Curso de Zero2Hero, enfocado en Ciencia de Datos\n",
    "\n",
    "Instructores:\n",
    "1. Jonatan Blank Hall\n",
    "2. Benito Franco López"
   ]
  },
  {
   "cell_type": "markdown",
   "metadata": {},
   "source": [
    "## MODULO 1\n",
    "Python básico"
   ]
  },
  {
   "cell_type": "markdown",
   "metadata": {},
   "source": [
    "### 1. Variables"
   ]
  },
  {
   "cell_type": "code",
   "execution_count": 10,
   "metadata": {},
   "outputs": [],
   "source": [
    "x = 100"
   ]
  },
  {
   "cell_type": "code",
   "execution_count": 11,
   "metadata": {},
   "outputs": [],
   "source": [
    "name = 'Jonatan'"
   ]
  },
  {
   "cell_type": "code",
   "execution_count": 16,
   "metadata": {},
   "outputs": [],
   "source": [
    "height = 1.79"
   ]
  },
  {
   "cell_type": "markdown",
   "metadata": {},
   "source": [
    "Función Print"
   ]
  },
  {
   "cell_type": "code",
   "execution_count": 13,
   "metadata": {},
   "outputs": [
    {
     "name": "stdout",
     "output_type": "stream",
     "text": [
      "Jonatan\n"
     ]
    }
   ],
   "source": [
    "print(name)"
   ]
  },
  {
   "cell_type": "markdown",
   "metadata": {},
   "source": [
    "Tipos de Variables"
   ]
  },
  {
   "cell_type": "code",
   "execution_count": 18,
   "metadata": {},
   "outputs": [
    {
     "data": {
      "text/plain": [
       "float"
      ]
     },
     "execution_count": 18,
     "metadata": {},
     "output_type": "execute_result"
    }
   ],
   "source": [
    "type(height)"
   ]
  },
  {
   "cell_type": "markdown",
   "metadata": {},
   "source": [
    "#### 1.1 Operaciones con Variables"
   ]
  },
  {
   "cell_type": "code",
   "execution_count": 25,
   "metadata": {},
   "outputs": [],
   "source": [
    "# inversión inicial\n",
    "x = 100\n",
    "# tasa de inversión\n",
    "t = 0.11\n",
    "#tiempo años\n",
    "n = 5"
   ]
  },
  {
   "cell_type": "code",
   "execution_count": 26,
   "metadata": {},
   "outputs": [],
   "source": [
    "# interes compuesto\n",
    "r = x*(1+t)**n"
   ]
  },
  {
   "cell_type": "code",
   "execution_count": 27,
   "metadata": {},
   "outputs": [
    {
     "name": "stdout",
     "output_type": "stream",
     "text": [
      "168.50581551000008\n"
     ]
    }
   ],
   "source": [
    "print(r)"
   ]
  },
  {
   "cell_type": "code",
   "execution_count": 28,
   "metadata": {},
   "outputs": [
    {
     "name": "stdout",
     "output_type": "stream",
     "text": [
      "-0.8181818181818182\n"
     ]
    }
   ],
   "source": [
    "x = 100\n",
    "y = -10\n",
    "z = x+y\n",
    "w = y-x\n",
    "j = z/w\n",
    "print(j)"
   ]
  },
  {
   "cell_type": "markdown",
   "metadata": {},
   "source": [
    "#### 1.2 Comparar Variables"
   ]
  },
  {
   "cell_type": "code",
   "execution_count": 29,
   "metadata": {},
   "outputs": [],
   "source": [
    "ingresos = 17000\n",
    "egresos = 16800\n",
    "\n",
    "bancarrota = egresos > ingresos"
   ]
  },
  {
   "cell_type": "code",
   "execution_count": 30,
   "metadata": {},
   "outputs": [
    {
     "name": "stdout",
     "output_type": "stream",
     "text": [
      "False\n"
     ]
    }
   ],
   "source": [
    "print(bancarrota)"
   ]
  },
  {
   "cell_type": "code",
   "execution_count": 39,
   "metadata": {},
   "outputs": [],
   "source": [
    "# determinar acceso de acuerdo a mayoria de edad\n",
    "age = 61\n",
    "\n",
    "limit = 18\n",
    "\n",
    "criterio = age >= limit"
   ]
  },
  {
   "cell_type": "code",
   "execution_count": 40,
   "metadata": {},
   "outputs": [
    {
     "name": "stdout",
     "output_type": "stream",
     "text": [
      "True\n"
     ]
    }
   ],
   "source": [
    "print(criterio)"
   ]
  },
  {
   "cell_type": "markdown",
   "metadata": {},
   "source": [
    "#### 1.3 Lógica de Variables"
   ]
  },
  {
   "cell_type": "code",
   "execution_count": 45,
   "metadata": {},
   "outputs": [
    {
     "name": "stdout",
     "output_type": "stream",
     "text": [
      "username: badbunnybaby\n",
      "password: yeyeyeye\n",
      "True\n"
     ]
    }
   ],
   "source": [
    "usr = 'badbunnybaby'\n",
    "psw = 'yeyeyeye'\n",
    "\n",
    "u = input('username: ')\n",
    "p = input('password: ')\n",
    "\n",
    "enter = usr == u and psw == p \n",
    "print(enter)"
   ]
  },
  {
   "cell_type": "code",
   "execution_count": 59,
   "metadata": {},
   "outputs": [
    {
     "name": "stdout",
     "output_type": "stream",
     "text": [
      "How far you live from me? (km): 4\n",
      "How old are you?: 65\n",
      "True\n"
     ]
    }
   ],
   "source": [
    "# vive cerca, no tiene más de 50 años\n",
    "limit_far = 7\n",
    "limit_age = 50\n",
    "\n",
    "far = int(input('How far you live from me? (km): '))\n",
    "age = int(input('How old are you?: '))\n",
    "\n",
    "accept = far < limit_far or age < limit_age\n",
    "print(accept)"
   ]
  },
  {
   "cell_type": "markdown",
   "metadata": {},
   "source": [
    "### 2. Condicionales"
   ]
  },
  {
   "cell_type": "code",
   "execution_count": 66,
   "metadata": {},
   "outputs": [
    {
     "name": "stdout",
     "output_type": "stream",
     "text": [
      "age: 18\n",
      "Puedes entrar\n"
     ]
    }
   ],
   "source": [
    "age = int(input('age: '))\n",
    "limit = 18\n",
    "\n",
    "if age >= limit:\n",
    "    print('Puedes entrar')\n",
    "else:\n",
    "    print('No puedes entrar')"
   ]
  },
  {
   "cell_type": "code",
   "execution_count": 68,
   "metadata": {},
   "outputs": [
    {
     "name": "stdout",
     "output_type": "stream",
     "text": [
      "username: badbunnybaby\n",
      "password: yeyeyeye\n",
      "Succesful!\n"
     ]
    }
   ],
   "source": [
    "usr = 'badbunnybaby'\n",
    "psw = 'yeyeyeye'\n",
    "\n",
    "u = input('username: ')\n",
    "p = input('password: ')\n",
    "\n",
    "if usr == u and psw == p:\n",
    "    print('Succesful!')\n",
    "elif usr == u and psw != p:\n",
    "    print('Username is correct, but Password incorrect')\n",
    "elif usr != u and psw == p:\n",
    "    print('Password is correct, but Username incorrect')\n",
    "else:\n",
    "    print('Both Password and Username are incorrect')"
   ]
  },
  {
   "cell_type": "markdown",
   "metadata": {},
   "source": [
    "### 3. Listas"
   ]
  },
  {
   "cell_type": "code",
   "execution_count": 73,
   "metadata": {},
   "outputs": [],
   "source": [
    "lista = [1,2,3,4,5]"
   ]
  },
  {
   "cell_type": "code",
   "execution_count": 74,
   "metadata": {},
   "outputs": [
    {
     "name": "stdout",
     "output_type": "stream",
     "text": [
      "5\n"
     ]
    }
   ],
   "source": [
    "#longitud de una lista\n",
    "print(len(lista))"
   ]
  },
  {
   "cell_type": "code",
   "execution_count": 77,
   "metadata": {},
   "outputs": [],
   "source": [
    "#agregar un elemento a una lista\n",
    "lista.append(6)\n",
    "lista.append(7)\n",
    "lista.append(-1)"
   ]
  },
  {
   "cell_type": "code",
   "execution_count": 88,
   "metadata": {},
   "outputs": [
    {
     "name": "stdout",
     "output_type": "stream",
     "text": [
      "[1, 2, 3, 4, 5, 6, 7, 6, 7]\n"
     ]
    }
   ],
   "source": [
    "print(lista)"
   ]
  },
  {
   "cell_type": "code",
   "execution_count": 97,
   "metadata": {},
   "outputs": [
    {
     "name": "stdout",
     "output_type": "stream",
     "text": [
      "1 no está en la lista\n"
     ]
    }
   ],
   "source": [
    "#eliminar elementos de lista\n",
    "x = 1\n",
    "\n",
    "if x in lista:\n",
    "    lista.remove(x)\n",
    "else:\n",
    "    print(f'{x} no está en la lista')"
   ]
  },
  {
   "cell_type": "code",
   "execution_count": 96,
   "metadata": {},
   "outputs": [
    {
     "name": "stdout",
     "output_type": "stream",
     "text": [
      "[2, 3, 4, 5, 6, 7, 6, 7]\n"
     ]
    }
   ],
   "source": [
    "print(lista)"
   ]
  },
  {
   "cell_type": "code",
   "execution_count": 111,
   "metadata": {},
   "outputs": [],
   "source": [
    "# Indexar una lista\n",
    "carrera = ['Libre','Coyote','Gato','Perro','Tortuga']"
   ]
  },
  {
   "cell_type": "code",
   "execution_count": 106,
   "metadata": {},
   "outputs": [
    {
     "data": {
      "text/plain": [
       "5"
      ]
     },
     "execution_count": 106,
     "metadata": {},
     "output_type": "execute_result"
    }
   ],
   "source": [
    "len(carrera)"
   ]
  },
  {
   "cell_type": "code",
   "execution_count": 107,
   "metadata": {},
   "outputs": [
    {
     "data": {
      "text/plain": [
       "'Libre'"
      ]
     },
     "execution_count": 107,
     "metadata": {},
     "output_type": "execute_result"
    }
   ],
   "source": [
    "carrera[0]"
   ]
  },
  {
   "cell_type": "code",
   "execution_count": 113,
   "metadata": {},
   "outputs": [],
   "source": [
    "#agregar multiples elementos\n",
    "for a in ['Lombriz','Pez','Rana']:\n",
    "    carrera.append(a)"
   ]
  },
  {
   "cell_type": "code",
   "execution_count": 114,
   "metadata": {},
   "outputs": [
    {
     "name": "stdout",
     "output_type": "stream",
     "text": [
      "['Libre', 'Coyote', 'Gato', 'Perro', 'Tortuga', 'Lombriz', 'Pez', 'Rana']\n"
     ]
    }
   ],
   "source": [
    "print(carrera)"
   ]
  },
  {
   "cell_type": "markdown",
   "metadata": {},
   "source": [
    "### 4. Ciclos"
   ]
  },
  {
   "cell_type": "code",
   "execution_count": 42,
   "metadata": {},
   "outputs": [],
   "source": [
    "lista = ['Gato','Perro','Iguana','Hamster']"
   ]
  },
  {
   "cell_type": "code",
   "execution_count": 63,
   "metadata": {},
   "outputs": [
    {
     "name": "stdout",
     "output_type": "stream",
     "text": [
      "Mi mascota favorita número 1 es: Gato\n",
      "Mi mascota favorita número 2 es: Perro\n",
      "Mi mascota favorita número 3 es: Iguana\n",
      "Mi mascota favorita número 4 es: Hamster\n"
     ]
    }
   ],
   "source": [
    "# sintaxis: iterar sobre elementos\n",
    "contador = 1\n",
    "for mascota in lista:\n",
    "    print(f'Mi mascota favorita número {contador} es: {mascota}')\n",
    "    contador = contador + 1"
   ]
  },
  {
   "cell_type": "code",
   "execution_count": 62,
   "metadata": {},
   "outputs": [
    {
     "name": "stdout",
     "output_type": "stream",
     "text": [
      "Mi mascota favorita número 1 es: Gato\n",
      "Mi mascota favorita número 2 es: Perro\n",
      "Mi mascota favorita número 3 es: Iguana\n",
      "Mi mascota favorita número 4 es: Hamster\n"
     ]
    }
   ],
   "source": [
    "# sintaxis: indexar\n",
    "for i in range(len(lista)):\n",
    "    print(f'Mi mascota favorita número {i+1} es: {lista[i]}')"
   ]
  },
  {
   "cell_type": "markdown",
   "metadata": {},
   "source": [
    "### 5. Diccionarios"
   ]
  },
  {
   "cell_type": "code",
   "execution_count": 54,
   "metadata": {},
   "outputs": [],
   "source": [
    "data = {\n",
    "    'name': 'Jonatan',\n",
    "    'lastname': 'Blank',\n",
    "    'age': 24,\n",
    "    'email': 'xblankhallx@gmail.com'\n",
    "}"
   ]
  },
  {
   "cell_type": "code",
   "execution_count": 69,
   "metadata": {},
   "outputs": [],
   "source": [
    "agenda = {\n",
    "    'Blank Hall': {\n",
    "        'nombre': 'Jonatan',\n",
    "        'apellidos': 'Blank Hall',\n",
    "        'edad': 24\n",
    "    },\n",
    "    'Perez Lopez': {\n",
    "        'nombre': 'Julio',\n",
    "        'apellidos': 'Perez Lopez',\n",
    "        'edad': 36\n",
    "    }\n",
    "}"
   ]
  },
  {
   "cell_type": "markdown",
   "metadata": {},
   "source": [
    "### 6. Funciones"
   ]
  },
  {
   "cell_type": "code",
   "execution_count": 76,
   "metadata": {},
   "outputs": [],
   "source": [
    "#ejemplo login\n",
    "def login(username,password):\n",
    "    data_base = {\n",
    "        'username': 'zero2hero',\n",
    "        'password': '12345'\n",
    "    }\n",
    "    if username == data_base['username'] and password == data_base['password']:\n",
    "        print('Login Succesful!')\n",
    "        return True\n",
    "    else:\n",
    "        print('Password or Username are Incorrect')\n",
    "        return False"
   ]
  },
  {
   "cell_type": "code",
   "execution_count": 82,
   "metadata": {},
   "outputs": [
    {
     "name": "stdout",
     "output_type": "stream",
     "text": [
      "Enter your username: zero2hero\n",
      "Enter your password: 12345\n",
      "Login Succesful!\n"
     ]
    },
    {
     "data": {
      "text/plain": [
       "True"
      ]
     },
     "execution_count": 82,
     "metadata": {},
     "output_type": "execute_result"
    }
   ],
   "source": [
    "usr = input('Enter your username: ')\n",
    "psw = input('Enter your password: ')\n",
    "\n",
    "login(usr,psw)"
   ]
  },
  {
   "cell_type": "code",
   "execution_count": 86,
   "metadata": {},
   "outputs": [
    {
     "name": "stdout",
     "output_type": "stream",
     "text": [
      "114.49000000000001\n"
     ]
    }
   ],
   "source": [
    "#ejemplo calculadora inflación\n",
    "costo_inicial = 100\n",
    "tasa = 7/100\n",
    "n = 2\n",
    "costo_en_n_años = 100*(1+7/100)**n\n",
    "print(costo_en_n_años)"
   ]
  },
  {
   "cell_type": "code",
   "execution_count": 96,
   "metadata": {},
   "outputs": [],
   "source": [
    "def inflacion(costo_inicial,tasa,tiempo):\n",
    "    for i in range(tiempo+1):\n",
    "        y = costo_inicial*(1+tasa)**i\n",
    "        print(f'Precio al año {i}: ${y}')"
   ]
  },
  {
   "cell_type": "code",
   "execution_count": 100,
   "metadata": {},
   "outputs": [
    {
     "name": "stdout",
     "output_type": "stream",
     "text": [
      "Precio al año 0: $145.0\n",
      "Precio al año 1: $154.17849999999999\n",
      "Precio al año 2: $163.93799905\n",
      "Precio al año 3: $174.31527438986495\n",
      "Precio al año 4: $185.34943125874338\n",
      "Precio al año 5: $197.08205025742183\n"
     ]
    }
   ],
   "source": [
    "inflacion(145,6.33/100,5)"
   ]
  },
  {
   "cell_type": "markdown",
   "metadata": {},
   "source": [
    "#### Ejemplo: Función de Ahorro"
   ]
  },
  {
   "cell_type": "code",
   "execution_count": 102,
   "metadata": {},
   "outputs": [],
   "source": [
    "#ejemplo: ahorro\n",
    "def ahorro(inicial,flujo,tasa,tiempo):\n",
    "    historia = [inicial]\n",
    "    for t in range(tiempo):\n",
    "        v = historia[t]*(1+tasa) + flujo\n",
    "        historia.append(v)\n",
    "        \n",
    "    return historia"
   ]
  },
  {
   "cell_type": "code",
   "execution_count": 17,
   "metadata": {},
   "outputs": [
    {
     "data": {
      "text/plain": [
       "[10000,\n",
       " 11091.666666666668,\n",
       " 12193.340277777781,\n",
       " 13305.112563657412,\n",
       " 14427.07609549094,\n",
       " 15559.324293032942,\n",
       " 16701.951432385744,\n",
       " 17855.05265384928,\n",
       " 19018.7239698429,\n",
       " 20193.062272899795,\n",
       " 21378.165343734712,\n",
       " 22574.131859385616,\n",
       " 23781.061401429986]"
      ]
     },
     "execution_count": 17,
     "metadata": {},
     "output_type": "execute_result"
    }
   ],
   "source": [
    "ahorro(10000,1000,.11/12,12)"
   ]
  },
  {
   "cell_type": "code",
   "execution_count": 113,
   "metadata": {},
   "outputs": [
    {
     "name": "stdout",
     "output_type": "stream",
     "text": [
      "61\n"
     ]
    }
   ],
   "source": [
    "A = ahorro(10000,2000,.11/12,12*5)\n",
    "print(len(A))"
   ]
  },
  {
   "cell_type": "code",
   "execution_count": 105,
   "metadata": {},
   "outputs": [],
   "source": [
    "import matplotlib.pyplot as plt"
   ]
  },
  {
   "cell_type": "code",
   "execution_count": 114,
   "metadata": {},
   "outputs": [
    {
     "data": {
      "image/png": "[encoded data removed]",
      "text/plain": [
       "<Figure size 576x432 with 1 Axes>"
      ]
     },
     "metadata": {
      "needs_background": "light"
     },
     "output_type": "display_data"
    }
   ],
   "source": [
    "plt.figure(figsize = (8,6))\n",
    "plt.title('Estrategia de Inversión')\n",
    "plt.xlabel('Tiempo (Meses)')\n",
    "plt.ylabel('Dinero Ahorrado ($)')\n",
    "plt.plot(range(len(A)),A,'-o',label='Valor total en la reserva de ahorro')\n",
    "plt.legend()\n",
    "plt.show()"
   ]
  },
  {
   "cell_type": "markdown",
   "metadata": {},
   "source": [
    "### 7. Librerías"
   ]
  },
  {
   "cell_type": "code",
   "execution_count": 23,
   "metadata": {},
   "outputs": [],
   "source": [
    "# matplotlib - Gráficas y Figuras\n",
    "import matplotlib.pyplot as plt\n",
    "\n",
    "# numpy - análisis numérico y operaciones matemáticas\n",
    "import numpy as np\n",
    "\n",
    "# pandas - manejo de bases de datos (excel,csv,dbf,txt,sql,etc)\n",
    "import pandas as pd\n",
    "\n",
    "# seaborn - gráficas avanzadas\n",
    "import seaborn as sns\n",
    "\n",
    "# scypy - modelos matemáticos y aprendizaje de máquina\n",
    "import scipy as sp\n",
    "\n",
    "# yfinance - API de Yahoo Finance (Acceso a Datos)\n",
    "import yfinance as yf"
   ]
  },
  {
   "cell_type": "markdown",
   "metadata": {},
   "source": [
    "## MODULO 2\n",
    "Manejo de Datos"
   ]
  },
  {
   "cell_type": "markdown",
   "metadata": {},
   "source": [
    "### 1. Gráficas"
   ]
  },
  {
   "cell_type": "markdown",
   "metadata": {},
   "source": [
    "#### Simulación Financiera"
   ]
  },
  {
   "cell_type": "code",
   "execution_count": 13,
   "metadata": {},
   "outputs": [],
   "source": [
    "finanzas = {\n",
    "    'ingresos': {\n",
    "        'fijos': 22000,\n",
    "        'variables': 2500\n",
    "    },\n",
    "    'egresos': {\n",
    "        'fijos': 0+1500+4000+2000,\n",
    "        'variables': (1200*4)+(3000),\n",
    "        'inv': (30000/12)+(500)\n",
    "    }\n",
    "}"
   ]
  },
  {
   "cell_type": "code",
   "execution_count": 12,
   "metadata": {},
   "outputs": [
    {
     "name": "stdout",
     "output_type": "stream",
     "text": [
      "Ingresos Totales: $24500\n"
     ]
    }
   ],
   "source": [
    "ingreso_total = 0\n",
    "for i in finanzas['ingresos'].keys():\n",
    "    ingreso_total += finanzas['ingresos'][i]\n",
    "print(f'Ingresos Totales: ${ingreso_total}')"
   ]
  },
  {
   "cell_type": "code",
   "execution_count": 18,
   "metadata": {},
   "outputs": [
    {
     "name": "stdout",
     "output_type": "stream",
     "text": [
      "Egresos Totales: $18300.0\n"
     ]
    }
   ],
   "source": [
    "egreso_total = 0\n",
    "for e in finanzas['egresos'].keys():\n",
    "    egreso_total += finanzas['egresos'][e]\n",
    "print(f'Egresos Totales: ${egreso_total}')"
   ]
  },
  {
   "cell_type": "code",
   "execution_count": 20,
   "metadata": {},
   "outputs": [
    {
     "name": "stdout",
     "output_type": "stream",
     "text": [
      "Excedente total: $6200.0\n"
     ]
    }
   ],
   "source": [
    "excedente = ingreso_total - egreso_total\n",
    "print(f'Excedente total: ${excedente}')"
   ]
  },
  {
   "cell_type": "code",
   "execution_count": 22,
   "metadata": {},
   "outputs": [
    {
     "name": "stdout",
     "output_type": "stream",
     "text": [
      "egreso anual: $219600.0\n"
     ]
    }
   ],
   "source": [
    "inf = .07\n",
    "egreso_anual = egreso_total*12\n",
    "print(f'egreso anual: ${egreso_anual}')"
   ]
  },
  {
   "cell_type": "code",
   "execution_count": 25,
   "metadata": {},
   "outputs": [],
   "source": [
    "def egreso_n(egreso_anual,inf,n):\n",
    "    return egreso_anual*(1+inf)**n"
   ]
  },
  {
   "cell_type": "code",
   "execution_count": 26,
   "metadata": {},
   "outputs": [],
   "source": [
    "import matplotlib.pyplot as plt"
   ]
  },
  {
   "cell_type": "code",
   "execution_count": 53,
   "metadata": {},
   "outputs": [],
   "source": [
    "años = range(11)\n",
    "E = [egreso_n(egreso_anual,inf,i) for i in años]\n",
    "I = [(ingreso_total*12)*(1+.0*i) for i in años]"
   ]
  },
  {
   "cell_type": "code",
   "execution_count": 54,
   "metadata": {},
   "outputs": [],
   "source": [
    "Ex = [(I[t] - E[t]) for t in años]\n",
    "warning = [0 for t in años]"
   ]
  },
  {
   "cell_type": "code",
   "execution_count": 55,
   "metadata": {},
   "outputs": [
    {
     "data": {
      "image/png": "[encoded data removed]",
      "text/plain": [
       "<Figure size 576x288 with 1 Axes>"
      ]
     },
     "metadata": {
      "needs_background": "light"
     },
     "output_type": "display_data"
    }
   ],
   "source": [
    "plt.figure(figsize = (8,4))\n",
    "plt.title('Plan Financiero Personal')\n",
    "plt.xlabel('Años')\n",
    "plt.ylabel('$')\n",
    "plt.plot(años,E,label='Egresos')\n",
    "plt.plot(años,I,label='Ingresos')\n",
    "plt.plot(años,Ex,'--',label='Excedente')\n",
    "plt.plot(años,warning,'r')\n",
    "plt.legend()\n",
    "plt.show()"
   ]
  },
  {
   "cell_type": "markdown",
   "metadata": {},
   "source": [
    "### 2. Bases de Datos"
   ]
  },
  {
   "cell_type": "markdown",
   "metadata": {},
   "source": [
    "### 3. Probabilidad y Estadística"
   ]
  },
  {
   "cell_type": "markdown",
   "metadata": {},
   "source": [
    "Problema de la urna"
   ]
  },
  {
   "cell_type": "code",
   "execution_count": 199,
   "metadata": {},
   "outputs": [],
   "source": [
    "import numpy as np\n",
    "import matplotlib.pyplot as plt"
   ]
  },
  {
   "cell_type": "code",
   "execution_count": 2,
   "metadata": {},
   "outputs": [],
   "source": [
    "costo_juego = 50\n",
    "costo_compra = 100\n",
    "\n",
    "gasto_total = []"
   ]
  },
  {
   "cell_type": "code",
   "execution_count": 80,
   "metadata": {},
   "outputs": [],
   "source": [
    "urna = ['verde','verde','verde','roja','roja']"
   ]
  },
  {
   "cell_type": "code",
   "execution_count": 81,
   "metadata": {},
   "outputs": [
    {
     "data": {
      "text/plain": [
       "['verde', 'verde', 'verde', 'roja', 'roja']"
      ]
     },
     "execution_count": 81,
     "metadata": {},
     "output_type": "execute_result"
    }
   ],
   "source": [
    "urna"
   ]
  },
  {
   "cell_type": "code",
   "execution_count": 54,
   "metadata": {},
   "outputs": [
    {
     "data": {
      "text/plain": [
       "'verde'"
      ]
     },
     "execution_count": 54,
     "metadata": {},
     "output_type": "execute_result"
    }
   ],
   "source": [
    "list(np.random.choice(urna,1))[0]"
   ]
  },
  {
   "cell_type": "code",
   "execution_count": 169,
   "metadata": {},
   "outputs": [],
   "source": [
    "#simular la extraccion de pelotas de la urna, hasta obtener la primera pelota verde\n",
    "def model_urna(urna,costo_juego):\n",
    "    costo_final = 0\n",
    "    extraccion = ''\n",
    "    while extraccion != 'verde':\n",
    "        extraccion = list(np.random.choice(urna,1))[0]\n",
    "        urna.remove(extraccion)\n",
    "        costo_final = costo_final + costo_juego\n",
    "    return costo_final"
   ]
  },
  {
   "cell_type": "code",
   "execution_count": 208,
   "metadata": {},
   "outputs": [
    {
     "name": "stdout",
     "output_type": "stream",
     "text": [
      "Exitos: 3631, Fracasos: 6369\n",
      "Probabilidad de exito: 36.31%\n",
      "Compra\n"
     ]
    },
    {
     "data": {
      "image/png": "[encoded data removed]",
      "text/plain": [
       "<Figure size 576x432 with 1 Axes>"
      ]
     },
     "metadata": {
      "needs_background": "light"
     },
     "output_type": "display_data"
    }
   ],
   "source": [
    "#caso\n",
    "costo_juego = 50\n",
    "costo_compra = 150\n",
    "n_sim = 10000\n",
    "obs = []\n",
    "\n",
    "for i in range(n_sim):\n",
    "    urna = ['verde','verde','verde','roja','roja','roja','roja','roja',\n",
    "           'roja','roja','roja','roja','roja','roja','roja']\n",
    "    m=model_urna(urna,costo_juego)\n",
    "    obs.append(m)\n",
    "    \n",
    "#toma de decision\n",
    "casos_exito = 0\n",
    "casos_fracaso = 0\n",
    "\n",
    "for o in obs:\n",
    "    if o < costo_compra:\n",
    "        casos_exito = casos_exito + 1\n",
    "    else:\n",
    "        casos_fracaso = casos_fracaso + 1\n",
    "\n",
    "print(f'Exitos: {casos_exito}, Fracasos: {casos_fracaso}')\n",
    "print(f'Probabilidad de exito: {casos_exito*100/(casos_exito+casos_fracaso)}%')\n",
    "\n",
    "if casos_exito > casos_fracaso:\n",
    "    print('Juega')\n",
    "else:\n",
    "    print('Compra')\n",
    "    \n",
    "plt.figure(figsize = (8,6))\n",
    "\n",
    "plt.title('Modelación de costo de Juego')\n",
    "plt.xlabel('Simulación')\n",
    "plt.ylabel('Costo de Juego $')\n",
    "plt.hist(obs)\n",
    "\n",
    "plt.show()"
   ]
  },
  {
   "cell_type": "code",
   "execution_count": null,
   "metadata": {},
   "outputs": [],
   "source": []
  },
  {
   "cell_type": "markdown",
   "metadata": {},
   "source": [
    "## MODULO 3\n",
    "Python Intermedio"
   ]
  },
  {
   "cell_type": "markdown",
   "metadata": {},
   "source": [
    "### 1. Programación Orientada a Objetos"
   ]
  },
  {
   "cell_type": "code",
   "execution_count": 88,
   "metadata": {},
   "outputs": [],
   "source": [
    "class Duck:\n",
    "    def __init__(self):\n",
    "        print('Quack')"
   ]
  },
  {
   "cell_type": "code",
   "execution_count": 89,
   "metadata": {},
   "outputs": [
    {
     "name": "stdout",
     "output_type": "stream",
     "text": [
      "Quack\n"
     ]
    }
   ],
   "source": [
    "d = Duck()"
   ]
  },
  {
   "cell_type": "markdown",
   "metadata": {},
   "source": [
    "### 2. Interacción de Objetos"
   ]
  },
  {
   "cell_type": "markdown",
   "metadata": {},
   "source": [
    "### 3. Simulaciones"
   ]
  },
  {
   "cell_type": "markdown",
   "metadata": {},
   "source": [
    "## MODULO 4\n",
    "Aprendizaje Estadístico"
   ]
  },
  {
   "cell_type": "markdown",
   "metadata": {},
   "source": [
    "### 1. Modelos Probabilísticos"
   ]
  },
  {
   "cell_type": "markdown",
   "metadata": {},
   "source": [
    "### 2. Regresión"
   ]
  },
  {
   "cell_type": "markdown",
   "metadata": {},
   "source": [
    "### 3. Clasificación"
   ]
  },
  {
   "cell_type": "markdown",
   "metadata": {},
   "source": [
    "### 4. Modelos Temporales"
   ]
  },
  {
   "cell_type": "markdown",
   "metadata": {},
   "source": [
    "## MODULO 5\n",
    "Application Programming Interface (API)"
   ]
  },
  {
   "cell_type": "markdown",
   "metadata": {},
   "source": [
    "### 1. Construcción de un API"
   ]
  },
  {
   "cell_type": "markdown",
   "metadata": {},
   "source": [
    "### 2. Interacción con un API externo"
   ]
  },
  {
   "cell_type": "markdown",
   "metadata": {},
   "source": [
    "#### 2.1 yfinance - API financiero"
   ]
  },
  {
   "cell_type": "code",
   "execution_count": 90,
   "metadata": {},
   "outputs": [],
   "source": [
    "msft = yf.Ticker(\"MSFT\")"
   ]
  },
  {
   "cell_type": "code",
   "execution_count": 91,
   "metadata": {},
   "outputs": [
    {
     "data": {
      "text/html": [
       "<div>\n",
       "<style scoped>\n",
       "    .dataframe tbody tr th:only-of-type {\n",
       "        vertical-align: middle;\n",
       "    }\n",
       "\n",
       "    .dataframe tbody tr th {\n",
       "        vertical-align: top;\n",
       "    }\n",
       "\n",
       "    .dataframe thead th {\n",
       "        text-align: right;\n",
       "    }\n",
       "</style>\n",
       "<table border=\"1\" class=\"dataframe\">\n",
       "  <thead>\n",
       "    <tr style=\"text-align: right;\">\n",
       "      <th></th>\n",
       "      <th>Open</th>\n",
       "      <th>High</th>\n",
       "      <th>Low</th>\n",
       "      <th>Close</th>\n",
       "      <th>Volume</th>\n",
       "      <th>Dividends</th>\n",
       "      <th>Stock Splits</th>\n",
       "    </tr>\n",
       "    <tr>\n",
       "      <th>Date</th>\n",
       "      <th></th>\n",
       "      <th></th>\n",
       "      <th></th>\n",
       "      <th></th>\n",
       "      <th></th>\n",
       "      <th></th>\n",
       "      <th></th>\n",
       "    </tr>\n",
       "  </thead>\n",
       "  <tbody>\n",
       "    <tr>\n",
       "      <th>2023-02-28</th>\n",
       "      <td>249.070007</td>\n",
       "      <td>251.490005</td>\n",
       "      <td>248.729996</td>\n",
       "      <td>249.419998</td>\n",
       "      <td>22491000</td>\n",
       "      <td>0</td>\n",
       "      <td>0</td>\n",
       "    </tr>\n",
       "    <tr>\n",
       "      <th>2023-03-01</th>\n",
       "      <td>250.759995</td>\n",
       "      <td>250.929993</td>\n",
       "      <td>245.789993</td>\n",
       "      <td>246.270004</td>\n",
       "      <td>27565300</td>\n",
       "      <td>0</td>\n",
       "      <td>0</td>\n",
       "    </tr>\n",
       "    <tr>\n",
       "      <th>2023-03-02</th>\n",
       "      <td>246.550003</td>\n",
       "      <td>251.399994</td>\n",
       "      <td>245.610001</td>\n",
       "      <td>251.110001</td>\n",
       "      <td>24808200</td>\n",
       "      <td>0</td>\n",
       "      <td>0</td>\n",
       "    </tr>\n",
       "    <tr>\n",
       "      <th>2023-03-03</th>\n",
       "      <td>252.190002</td>\n",
       "      <td>255.619995</td>\n",
       "      <td>251.389999</td>\n",
       "      <td>255.289993</td>\n",
       "      <td>30741300</td>\n",
       "      <td>0</td>\n",
       "      <td>0</td>\n",
       "    </tr>\n",
       "    <tr>\n",
       "      <th>2023-03-06</th>\n",
       "      <td>256.429993</td>\n",
       "      <td>260.119995</td>\n",
       "      <td>255.979996</td>\n",
       "      <td>256.869995</td>\n",
       "      <td>24109800</td>\n",
       "      <td>0</td>\n",
       "      <td>0</td>\n",
       "    </tr>\n",
       "    <tr>\n",
       "      <th>2023-03-07</th>\n",
       "      <td>256.299988</td>\n",
       "      <td>257.690002</td>\n",
       "      <td>253.389999</td>\n",
       "      <td>254.149994</td>\n",
       "      <td>21473200</td>\n",
       "      <td>0</td>\n",
       "      <td>0</td>\n",
       "    </tr>\n",
       "    <tr>\n",
       "      <th>2023-03-08</th>\n",
       "      <td>254.039993</td>\n",
       "      <td>254.539993</td>\n",
       "      <td>250.809998</td>\n",
       "      <td>253.699997</td>\n",
       "      <td>17340200</td>\n",
       "      <td>0</td>\n",
       "      <td>0</td>\n",
       "    </tr>\n",
       "    <tr>\n",
       "      <th>2023-03-09</th>\n",
       "      <td>255.820007</td>\n",
       "      <td>259.559998</td>\n",
       "      <td>251.580002</td>\n",
       "      <td>252.320007</td>\n",
       "      <td>26653400</td>\n",
       "      <td>0</td>\n",
       "      <td>0</td>\n",
       "    </tr>\n",
       "    <tr>\n",
       "      <th>2023-03-10</th>\n",
       "      <td>251.080002</td>\n",
       "      <td>252.789993</td>\n",
       "      <td>247.600006</td>\n",
       "      <td>248.589996</td>\n",
       "      <td>28321800</td>\n",
       "      <td>0</td>\n",
       "      <td>0</td>\n",
       "    </tr>\n",
       "    <tr>\n",
       "      <th>2023-03-13</th>\n",
       "      <td>247.399994</td>\n",
       "      <td>257.910004</td>\n",
       "      <td>245.729996</td>\n",
       "      <td>253.919998</td>\n",
       "      <td>33339700</td>\n",
       "      <td>0</td>\n",
       "      <td>0</td>\n",
       "    </tr>\n",
       "    <tr>\n",
       "      <th>2023-03-14</th>\n",
       "      <td>256.750000</td>\n",
       "      <td>261.070007</td>\n",
       "      <td>255.860001</td>\n",
       "      <td>260.790009</td>\n",
       "      <td>33620300</td>\n",
       "      <td>0</td>\n",
       "      <td>0</td>\n",
       "    </tr>\n",
       "    <tr>\n",
       "      <th>2023-03-15</th>\n",
       "      <td>259.980011</td>\n",
       "      <td>266.480011</td>\n",
       "      <td>259.209991</td>\n",
       "      <td>265.440002</td>\n",
       "      <td>46028000</td>\n",
       "      <td>0</td>\n",
       "      <td>0</td>\n",
       "    </tr>\n",
       "    <tr>\n",
       "      <th>2023-03-16</th>\n",
       "      <td>265.209991</td>\n",
       "      <td>276.559998</td>\n",
       "      <td>263.279999</td>\n",
       "      <td>276.200012</td>\n",
       "      <td>54768800</td>\n",
       "      <td>0</td>\n",
       "      <td>0</td>\n",
       "    </tr>\n",
       "    <tr>\n",
       "      <th>2023-03-17</th>\n",
       "      <td>278.260010</td>\n",
       "      <td>283.329987</td>\n",
       "      <td>276.320007</td>\n",
       "      <td>279.429993</td>\n",
       "      <td>69492200</td>\n",
       "      <td>0</td>\n",
       "      <td>0</td>\n",
       "    </tr>\n",
       "    <tr>\n",
       "      <th>2023-03-20</th>\n",
       "      <td>276.980011</td>\n",
       "      <td>277.480011</td>\n",
       "      <td>269.850006</td>\n",
       "      <td>272.230011</td>\n",
       "      <td>43466600</td>\n",
       "      <td>0</td>\n",
       "      <td>0</td>\n",
       "    </tr>\n",
       "    <tr>\n",
       "      <th>2023-03-21</th>\n",
       "      <td>274.880005</td>\n",
       "      <td>275.000000</td>\n",
       "      <td>269.519989</td>\n",
       "      <td>273.779999</td>\n",
       "      <td>34558700</td>\n",
       "      <td>0</td>\n",
       "      <td>0</td>\n",
       "    </tr>\n",
       "    <tr>\n",
       "      <th>2023-03-22</th>\n",
       "      <td>273.399994</td>\n",
       "      <td>281.040009</td>\n",
       "      <td>272.179993</td>\n",
       "      <td>272.290009</td>\n",
       "      <td>34873300</td>\n",
       "      <td>0</td>\n",
       "      <td>0</td>\n",
       "    </tr>\n",
       "    <tr>\n",
       "      <th>2023-03-23</th>\n",
       "      <td>277.940002</td>\n",
       "      <td>281.059998</td>\n",
       "      <td>275.200012</td>\n",
       "      <td>277.660004</td>\n",
       "      <td>36610900</td>\n",
       "      <td>0</td>\n",
       "      <td>0</td>\n",
       "    </tr>\n",
       "    <tr>\n",
       "      <th>2023-03-24</th>\n",
       "      <td>277.239990</td>\n",
       "      <td>280.630005</td>\n",
       "      <td>275.279999</td>\n",
       "      <td>280.570007</td>\n",
       "      <td>28172000</td>\n",
       "      <td>0</td>\n",
       "      <td>0</td>\n",
       "    </tr>\n",
       "    <tr>\n",
       "      <th>2023-03-27</th>\n",
       "      <td>280.500000</td>\n",
       "      <td>281.459991</td>\n",
       "      <td>275.519989</td>\n",
       "      <td>276.380005</td>\n",
       "      <td>26840200</td>\n",
       "      <td>0</td>\n",
       "      <td>0</td>\n",
       "    </tr>\n",
       "    <tr>\n",
       "      <th>2023-03-28</th>\n",
       "      <td>275.790009</td>\n",
       "      <td>276.140015</td>\n",
       "      <td>272.049988</td>\n",
       "      <td>275.230011</td>\n",
       "      <td>21856400</td>\n",
       "      <td>0</td>\n",
       "      <td>0</td>\n",
       "    </tr>\n",
       "  </tbody>\n",
       "</table>\n",
       "</div>"
      ],
      "text/plain": [
       "                  Open        High         Low       Close    Volume  \\\n",
       "Date                                                                   \n",
       "2023-02-28  249.070007  251.490005  248.729996  249.419998  22491000   \n",
       "2023-03-01  250.759995  250.929993  245.789993  246.270004  27565300   \n",
       "2023-03-02  246.550003  251.399994  245.610001  251.110001  24808200   \n",
       "2023-03-03  252.190002  255.619995  251.389999  255.289993  30741300   \n",
       "2023-03-06  256.429993  260.119995  255.979996  256.869995  24109800   \n",
       "2023-03-07  256.299988  257.690002  253.389999  254.149994  21473200   \n",
       "2023-03-08  254.039993  254.539993  250.809998  253.699997  17340200   \n",
       "2023-03-09  255.820007  259.559998  251.580002  252.320007  26653400   \n",
       "2023-03-10  251.080002  252.789993  247.600006  248.589996  28321800   \n",
       "2023-03-13  247.399994  257.910004  245.729996  253.919998  33339700   \n",
       "2023-03-14  256.750000  261.070007  255.860001  260.790009  33620300   \n",
       "2023-03-15  259.980011  266.480011  259.209991  265.440002  46028000   \n",
       "2023-03-16  265.209991  276.559998  263.279999  276.200012  54768800   \n",
       "2023-03-17  278.260010  283.329987  276.320007  279.429993  69492200   \n",
       "2023-03-20  276.980011  277.480011  269.850006  272.230011  43466600   \n",
       "2023-03-21  274.880005  275.000000  269.519989  273.779999  34558700   \n",
       "2023-03-22  273.399994  281.040009  272.179993  272.290009  34873300   \n",
       "2023-03-23  277.940002  281.059998  275.200012  277.660004  36610900   \n",
       "2023-03-24  277.239990  280.630005  275.279999  280.570007  28172000   \n",
       "2023-03-27  280.500000  281.459991  275.519989  276.380005  26840200   \n",
       "2023-03-28  275.790009  276.140015  272.049988  275.230011  21856400   \n",
       "\n",
       "            Dividends  Stock Splits  \n",
       "Date                                 \n",
       "2023-02-28          0             0  \n",
       "2023-03-01          0             0  \n",
       "2023-03-02          0             0  \n",
       "2023-03-03          0             0  \n",
       "2023-03-06          0             0  \n",
       "2023-03-07          0             0  \n",
       "2023-03-08          0             0  \n",
       "2023-03-09          0             0  \n",
       "2023-03-10          0             0  \n",
       "2023-03-13          0             0  \n",
       "2023-03-14          0             0  \n",
       "2023-03-15          0             0  \n",
       "2023-03-16          0             0  \n",
       "2023-03-17          0             0  \n",
       "2023-03-20          0             0  \n",
       "2023-03-21          0             0  \n",
       "2023-03-22          0             0  \n",
       "2023-03-23          0             0  \n",
       "2023-03-24          0             0  \n",
       "2023-03-27          0             0  \n",
       "2023-03-28          0             0  "
      ]
     },
     "execution_count": 91,
     "metadata": {},
     "output_type": "execute_result"
    }
   ],
   "source": [
    "hist = msft.history()\n",
    "hist"
   ]
  },
  {
   "cell_type": "code",
   "execution_count": 46,
   "metadata": {},
   "outputs": [
    {
     "data": {
      "text/plain": [
       "[<matplotlib.lines.Line2D at 0x28cc34cc3a0>]"
      ]
     },
     "execution_count": 46,
     "metadata": {},
     "output_type": "execute_result"
    },
    {
     "data": {
      "image/png": "[encoded data removed]",
      "text/plain": [
       "<Figure size 432x288 with 1 Axes>"
      ]
     },
     "metadata": {
      "needs_background": "light"
     },
     "output_type": "display_data"
    }
   ],
   "source": [
    "plt.plot(hist['Close'],hist['Volume'],'o')"
   ]
  },
  {
   "cell_type": "markdown",
   "metadata": {},
   "source": [
    "## MODULO 6\n",
    "Proyectos"
   ]
  },
  {
   "cell_type": "markdown",
   "metadata": {},
   "source": [
    "### 1. Proyecto Business Intelligence\n"
   ]
  },
  {
   "cell_type": "markdown",
   "metadata": {},
   "source": [
    "### 2. Proyecto Service App"
   ]
  }
 ],
 "metadata": {
  "kernelspec": {
   "display_name": "Python 3",
   "language": "python",
   "name": "python3"
  },
  "language_info": {
   "codemirror_mode": {
    "name": "ipython",
    "version": 3
   },
   "file_extension": ".py",
   "mimetype": "text/x-python",
   "name": "python",
   "nbconvert_exporter": "python",
   "pygments_lexer": "ipython3",
   "version": "3.8.5"
  }
 },
 "nbformat": 4,
 "nbformat_minor": 4
}
